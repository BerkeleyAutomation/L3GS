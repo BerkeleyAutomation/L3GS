{
 "cells": [
  {
   "cell_type": "code",
   "execution_count": 1,
   "metadata": {},
   "outputs": [
    {
     "ename": "IsADirectoryError",
     "evalue": "[Errno 21] Is a directory: '././testimages'",
     "output_type": "error",
     "traceback": [
      "\u001b[0;31m---------------------------------------------------------------------------\u001b[0m",
      "\u001b[0;31mIsADirectoryError\u001b[0m                         Traceback (most recent call last)",
      "\u001b[1;32m/home/yujustin/Desktop/L3GOS/l3gos/l3gos/monodepth/test/depthtest.ipynb Cell 1\u001b[0m line \u001b[0;36m1\n\u001b[1;32m      <a href='vscode-notebook-cell:/home/yujustin/Desktop/L3GOS/l3gos/l3gos/monodepth/test/depthtest.ipynb#W1sZmlsZQ%3D%3D?line=7'>8</a>\u001b[0m depth_model \u001b[39m=\u001b[39m LiteMonoNetwork(LiteMonoNetworkConfig)\n\u001b[1;32m      <a href='vscode-notebook-cell:/home/yujustin/Desktop/L3GOS/l3gos/l3gos/monodepth/test/depthtest.ipynb#W1sZmlsZQ%3D%3D?line=8'>9</a>\u001b[0m \u001b[39mfor\u001b[39;00m filename \u001b[39min\u001b[39;00m glob\u001b[39m.\u001b[39mglob(os\u001b[39m.\u001b[39mpath\u001b[39m.\u001b[39mjoin(\u001b[39m'\u001b[39m\u001b[39m.\u001b[39m\u001b[39m'\u001b[39m, \u001b[39m'\u001b[39m\u001b[39mtestimages\u001b[39m\u001b[39m'\u001b[39m)):\n\u001b[0;32m---> <a href='vscode-notebook-cell:/home/yujustin/Desktop/L3GOS/l3gos/l3gos/monodepth/test/depthtest.ipynb#W1sZmlsZQ%3D%3D?line=9'>10</a>\u001b[0m     image \u001b[39m=\u001b[39m pil\u001b[39m.\u001b[39;49mopen(os\u001b[39m.\u001b[39;49mpath\u001b[39m.\u001b[39;49mjoin(\u001b[39m'\u001b[39;49m\u001b[39m.\u001b[39;49m\u001b[39m'\u001b[39;49m, filename))\u001b[39m.\u001b[39mconvert(\u001b[39m'\u001b[39m\u001b[39mRGB\u001b[39m\u001b[39m'\u001b[39m)\n\u001b[1;32m     <a href='vscode-notebook-cell:/home/yujustin/Desktop/L3GOS/l3gos/l3gos/monodepth/test/depthtest.ipynb#W1sZmlsZQ%3D%3D?line=10'>11</a>\u001b[0m     plt\u001b[39m.\u001b[39mimshow(image)\n\u001b[1;32m     <a href='vscode-notebook-cell:/home/yujustin/Desktop/L3GOS/l3gos/l3gos/monodepth/test/depthtest.ipynb#W1sZmlsZQ%3D%3D?line=11'>12</a>\u001b[0m     plt\u001b[39m.\u001b[39mshow()\n",
      "File \u001b[0;32m~/.local/lib/python3.10/site-packages/PIL/Image.py:3236\u001b[0m, in \u001b[0;36mopen\u001b[0;34m(fp, mode, formats)\u001b[0m\n\u001b[1;32m   3233\u001b[0m     filename \u001b[39m=\u001b[39m fp\n\u001b[1;32m   3235\u001b[0m \u001b[39mif\u001b[39;00m filename:\n\u001b[0;32m-> 3236\u001b[0m     fp \u001b[39m=\u001b[39m builtins\u001b[39m.\u001b[39;49mopen(filename, \u001b[39m\"\u001b[39;49m\u001b[39mrb\u001b[39;49m\u001b[39m\"\u001b[39;49m)\n\u001b[1;32m   3237\u001b[0m     exclusive_fp \u001b[39m=\u001b[39m \u001b[39mTrue\u001b[39;00m\n\u001b[1;32m   3239\u001b[0m \u001b[39mtry\u001b[39;00m:\n",
      "\u001b[0;31mIsADirectoryError\u001b[0m: [Errno 21] Is a directory: '././testimages'"
     ]
    }
   ],
   "source": [
    "from l3gos.monodepth.litemono_network import LiteMonoNetwork, LiteMonoNetworkConfig\n",
    "import PIL.Image as pil\n",
    "import os\n",
    "import time\n",
    "import matplotlib.pyplot as plt\n",
    "import glob\n",
    "\n",
    "depth_model = LiteMonoNetwork(LiteMonoNetworkConfig)\n",
    "for filename in glob.glob(os.path.join('testimages','*.jpg')):\n",
    "    image = pil.open(os.path.join('.', filename)).convert('RGB')\n",
    "    plt.imshow(image)\n",
    "    plt.show()\n",
    "    start = time.time()\n",
    "    depth_model.get_depth(image)\n",
    "    end = time.time()\n",
    "    print(f'Inference time: {end - start} seconds')"
   ]
  }
 ],
 "metadata": {
  "kernelspec": {
   "display_name": "Python 3",
   "language": "python",
   "name": "python3"
  },
  "language_info": {
   "codemirror_mode": {
    "name": "ipython",
    "version": 3
   },
   "file_extension": ".py",
   "mimetype": "text/x-python",
   "name": "python",
   "nbconvert_exporter": "python",
   "pygments_lexer": "ipython3",
   "version": "3.10.12"
  }
 },
 "nbformat": 4,
 "nbformat_minor": 2
}
